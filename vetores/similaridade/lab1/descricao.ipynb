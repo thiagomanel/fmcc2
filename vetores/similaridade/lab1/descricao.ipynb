{
 "cells": [
  {
   "cell_type": "markdown",
   "metadata": {},
   "source": [
    "## 1. Motivação\n",
    "\n",
    "Estes são tempos difíceis, o cenário sociopolítico atual está em um estado de abjeção turbulenta. Neste laboratório, iremos usar vetores para avaliar objetivamente a mentalidade política dos deputados que nos representam. O registro de voto de cada deputado será representado por um vetor, no qual cada elemento representa como ele votou numa dada lei.\n",
    "\n",
    "A partir da diferença entre os \"vetores de votação\" de dois deputados, nós podemos dissipar a neblina da política e ver como nossos representantes se posicionam.\n",
    "\n",
    "Neste projeto, nós iremos representar o registro de votação de um deputado como um vetor sobre o $\\mathbb{R}$, e vamos usar produto interno para comparar tais registros.\n",
    "\n",
    "## 2. Lendo o arquivo de dados\n",
    "\n",
    "A informação que precisamos para trabalhar virá armazenada num arquivo csv, separado por vírgula. E representa o registro de votação de deputados brasileiros entre os anos de 2015 e 2018 para algumas votações. Cada linha representa o registro de votação de um deputado distinto. O arquivo de dados está disponível [aqui](data/votos.csv).\n",
    "\n",
    "Abaixo, você pode ver um exemplo de como ler e manipular um arquivo csv em Python. Isto já esta pronto e pode ser encontrado [aqui](src/file_reader.py)."
   ]
  },
  {
   "cell_type": "code",
   "execution_count": 17,
   "metadata": {},
   "outputs": [
    {
     "name": "stdout",
     "output_type": "stream",
     "text": [
      "['4930', '4931']\n",
      "['PE', 'DF']\n",
      "['AVANTE', 'PSDB']\n",
      "[[-1, -1, -1, -1, -1, -1, -1, -1, -1, -1, -1, -1, -1, -1, -1, -1, -1, -1, -1, -1, -1, -1, -1, -1, -1, -1, -1, -1, -1, -1, -1, -1, -1, -1, -1, -1, -1, -1, -1, -1, -1, -1, -1, -1, -1, -1, -1, -1, -1, -1, -1, -1, -1, -1, -1, -1, -1, -1, -1, -1, -1, -1, -1, -1, -1, -1, -1, -1, -1, -1, -1, -1, -1, -1, -1, -1, -1, -1, -1, -1, -1, -1, -1, -1, -1, -1, -1, -1, -1, -1, -1, -1, -1, -1, -1, -1, -1, -1, -1, -1, -1, -1, -1, -1, -1, -1, -1, -1, -1, -1, -1, -1, -1, -1, -1, -1, -1, -1, -1, -1, -1, -1, -1, -1, -1, -1, -1, -1, -1, -1, -1, -1, -1, -1, -1, -1, -1, -1, -1, -1, -1, -1, -1, -1, -1, -1, -1, -1, -1, -1, -1, -1, -1, -1, -1, -1, -1, -1, -1, -1, -1, -1, -1, -1, -1, -1, -1, -1, -1, -1, -1, -1, -1, -1, -1, -1, -1, -1, -1, -1, -1, -1, -1, -1, -1, -1, -1, -1, -1, -1, -1, -1, -1, -1, -1, -1, -1, -1, -1, -1, -1, -1, -1, -1, -1, -1, -1, -1, -1, -1, -1, -1, -1, -1, -1, -1, -1, -1, -1, -1, -1, -1, -1, -1, -1, -1, -1, -1, -1, -1, -1, -1, -1, -1, -1, -1, -1, -1, -1, -1, -1, -1, -1, -1, -1, -1, -1, -1, -1, -1, -1, -1, -1, -1, -1, -1, -1, -1, -1, -1, -1, -1, -1, -1, -1, -1, -1, -1, -1, 1, 0, 0, 0, 0, 0, -1, -1, 1, 1, 1, -1, -1, -1, 0, 0, -1, -1, -1, 1, 0, 0, 0, 1, 0, -1, -1, 1, 1, 0, 0, -1, 1, 1, 0, 0, 0, 1, 1, 1, 0, -1, -1, -1, -1, 1, 0, 1, 0, -1, 1, 1, 0, 1, 1, -1, 0, 0, 0, -1, 0, -1, 0, 1, -1, 0, -1, 0, 1, 0, 0, 0, 1, 1, 1, 1, 1, 1, 1, 0, 0, 0, 0, 1, 1, 1, -1, 0, 0, 0, 0, 0, -1, -1, -1, -1, 1, 0, 0, 1, 1, -1, 1, 1, 0, 1, 1, 0, 0, 0, 0, 1, -1, 0, 1, 0, 1, 0, 1, -1, 0, 1, 0, 0, 0, -1, 1, 1, -1, 1, 1, 0, 1, 0, 1, -1, 1, -1, 1, 0, 0, 1, -1, 0, 0, -1, -1, 1, -1, 1, 1, 1, -1, 1, -1, 0, -1, 0, -1, 1, 0, 0, 1, -1, 1, 0, 0, 0, 0, -1, 0, 0, -1, -1, 0, 1, -1, 1, 1, 1, 1, 1, -1, -1, -1, -1, 1, -1, -1, 0, -1, 1, -1, -1, 1, 1, 1, 1, 0, 1, 0, 1, -1, 1, 1, -1, 1, 0, -1, 1, 0, 0, 1, 0, 0, 0, 0, 0, -1, 0, 0, 0, 0, 1, -1, 1, -1, 1, 0, -1, -1, 1, 1, 0, 1, -1, 0, 1, -1, 1, 1, 1, -1, -1, 1, 0, 0, 0, 0, 0, 0, 0, 0, 0, 0, 0, 0, 1, -1, 1, -1, 0, 0, 1, -1, -1, -1, 0, 1, -1, 0, 0, -1, -1, 0, 0, 0, 0, 0, 0, 0, -1, 0, 1, -1, -1, 0, -1, 0, 0, 0, 1, -1, -1, -1, -1, -1, -1, -1, -1, 0, 1, 0, 1, 0, 1, 1, 1, 1, 1, 0, 1, -1, 1, 0, 1, 1, -1, -1, 0, 1, 0, 1, 0, 0, 0, 0, 0, 1, 1, 1, 0, 0, 0, 0, 0, 1, -1, -1, -1, -1, -1, 1, 1, -1, 0, 0, 1, -1, 0, 1, 0, -1, -1, 1, 0, -1, 1, 1, 1, -1, -1, -1, 1, 1, -1, 1, -1, 1, 1, 0, 1, -1, 1, -1, -1, 1, 0, 1, 1, -1, 1, 1, 1, 1, 1, 1, 1, 1, 1, -1, 1, 0, 1, -1, 1, 1, 1, 0, 0, 0, 0, 0, 0, -1, -1, 1, 0, 1, 1, 1, 1, 1, 0, -1, 1, -1, 0, -1, 1, 0, 0, 1, 1, 1, -1, 1, 0, 0, 0, 0, 0, 0, 0, 0, 0, 0, -1, 1, 1, 1, 1, 1, 0, 0, 0, -1, 1, 0, 0, 0, 0, 0, 0, 0, 1, 0, 1, -1, -1, -1, -1, 1, 0, 0, 0, 0, 0, 0, -1, -1, 0, 1, -1, -1, 0, -1, 1, 0, -1, 1, 1, -1, 0, -1, -1, 1, 1, -1, 1, 1, -1, 1, -1, -1, 1, 0, 1, 1, -1, 1, 1, -1, 0, 0, 1, -1, -1, 1, -1, 1, 1, -1, 0, 0, -1, 1, 1, 0, 1, 0, -1, 1, -1, 1, -1, 0, 1, 1, 1, 0, 0, 0, 0, 0, 0, 0, 0, 0, 0, 0, 0, 1, -1, -1, 0, 1, -1, 1, 1, 1, 0, 1, 1, 0, 0, 0, 0, 0, 0, 0, 0, 0, 0, 0, 0, 0, 0, 0, 0, 0, 0, 0, 0, 0, 0, 0, 0, 0, 1, 1, 1, -1, 1, 1, -1, -1, -1, 1, 1, 0, -1, 1, 0, 0, 1, 1, -1], [1, -1, 0, -1, 1, 1, 1, 1, -1, 0, -1, 1, -1, 1, -1, -1, -1, 1, -1, 0, 1, -1, 0, 0, 0, 1, 1, -1, -1, 0, 1, 1, 1, 1, 0, 1, 0, -1, 0, 1, -1, 1, -1, 1, 1, -1, 1, 1, 1, 1, 0, -1, -1, 1, 1, 1, 1, 1, 1, 1, 0, -1, -1, -1, -1, 1, 0, 1, 1, 1, -1, 1, -1, 0, 0, 0, -1, -1, 1, 1, -1, -1, 1, 0, -1, 0, -1, 1, -1, -1, -1, -1, -1, 0, 0, 0, 0, 0, 0, -1, -1, 1, -1, 1, 1, -1, 1, 1, -1, 1, 1, -1, -1, 1, -1, 1, 1, 1, 1, -1, 1, -1, -1, -1, 1, 1, 1, 0, 1, 1, 1, 1, 1, 1, -1, 1, 1, 1, 1, -1, 1, 1, -1, 1, 1, 1, -1, 1, 1, 1, 1, -1, 1, 1, -1, 1, 1, 1, 0, -1, 1, 0, -1, -1, 1, 1, -1, -1, 1, -1, 1, 1, 1, 1, 1, 1, 1, 0, -1, 1, -1, 1, 0, 0, 1, 1, 1, -1, 1, -1, 1, -1, 1, 1, 1, -1, 0, 1, 0, 1, 0, 1, 1, 1, 0, 1, -1, 1, -1, -1, 1, 1, 0, 1, 0, 1, 1, 1, 1, -1, 1, 1, 1, 1, 1, 1, 1, 0, 1, 1, 0, -1, 0, -1, 1, 0, 1, -1, 1, -1, -1, -1, 0, 1, -1, 1, 1, 1, 1, -1, -1, 0, 1, -1, -1, -1, 1, 1, -1, 1, 1, 1, 0, 0, 1, 1, 0, 1, 0, 1, -1, -1, -1, -1, 1, 1, 1, -1, -1, -1, 1, -1, 0, 1, -1, -1, 1, 1, -1, 1, -1, -1, 0, 1, 1, 1, 1, 1, 1, -1, -1, 1, 1, 0, -1, 1, 1, 0, -1, -1, -1, 1, 1, 1, -1, 0, -1, 0, 1, -1, -1, -1, 1, 1, -1, 1, 1, -1, -1, -1, -1, -1, -1, 1, -1, 1, 1, 1, 1, 1, 1, 1, 0, 1, 1, 1, 1, 1, -1, 1, 1, 1, 1, 1, 1, 0, 1, -1, -1, 1, -1, -1, 0, -1, 1, 0, 1, 1, -1, -1, 1, -1, -1, -1, -1, 1, 0, 1, 1, 0, 0, 1, -1, -1, -1, -1, 1, -1, 1, -1, 1, 1, -1, 1, 0, -1, -1, 1, 1, 1, 0, 1, -1, -1, -1, 1, -1, 1, -1, -1, 1, -1, 1, -1, -1, -1, 0, 0, -1, -1, -1, -1, 1, -1, 0, -1, 0, -1, 1, 1, 1, 1, -1, 1, 1, 1, -1, -1, 1, 1, -1, 0, 1, -1, 1, 1, 1, 0, 1, 1, -1, -1, -1, 1, 1, -1, 1, 1, -1, 1, -1, -1, -1, 1, 1, 1, 0, -1, 0, -1, -1, 1, -1, -1, 1, -1, 1, 1, -1, 0, 0, 0, -1, -1, 1, -1, 0, 1, 1, 1, 1, 1, 1, -1, -1, 1, 0, 0, 1, -1, 1, -1, -1, -1, 1, 1, -1, 1, -1, -1, 0, -1, 0, 0, -1, 0, 1, 1, 0, 1, -1, 1, -1, 1, 1, 1, -1, 1, -1, 1, -1, -1, 0, 1, 1, 1, -1, -1, 1, -1, 0, 1, -1, 0, 0, 0, 0, 0, 0, 0, 1, 0, -1, 1, 1, -1, 1, 1, 1, 0, 0, 1, 1, -1, 1, 1, -1, -1, -1, 0, 0, -1, -1, 1, 1, 1, 1, 1, 1, 1, -1, -1, 1, -1, 1, 0, -1, -1, -1, 0, 0, -1, -1, -1, -1, -1, 1, 0, 1, 1, 0, 1, 0, 1, 1, 0, 0, 1, -1, 1, 1, -1, -1, 1, -1, -1, 0, 1, 1, 0, 0, -1, -1, 1, 0, -1, -1, 0, 1, -1, -1, -1, 1, -1, 1, 1, 1, 1, 1, -1, 1, 1, -1, 1, -1, -1, -1, 1, 1, -1, -1, 1, -1, -1, 0, 1, 1, 1, -1, 1, -1, -1, 1, 1, 0, 0, 1, -1, 0, -1, 1, -1, 1, -1, 0, 1, -1, 0, 1, -1, 1, 0, 0, -1, 1, -1, -1, -1, 1, 1, 0, 1, 1, -1, 1, 1, 1, -1, 1, 1, 1, 0, 0, 1, -1, -1, 1, 0, -1, -1, 1, 1, -1, 1, 1, 0, 0, -1, 0, 1, -1, -1, 1, 0, -1, 0, -1, -1, 1, 1, -1, 0, 0, 1, -1, 0, 1, 0, 0, -1, -1, 0, -1, 0, 0, 0, 1, 0, -1, 1, 1, 0, 0, -1, 0, 0, -1, -1, 1, -1, 0, 0, 1, -1, 1, -1, 0, -1, 1, 1, 1, 0, -1, 0, 0, -1, -1, 0, -1, 1, 1, 1, 1, 1, 1, -1, -1, -1, 0, 0, 1, -1, 1, 0, 0, -1, 1, -1, 1, 1, -1, 0, -1, 0, 0, 1, 1, -1, 0, -1, -1, -1, 1, 0, 0, 0, 0, -1, -1, 0, 0, 0, 1, 1, 1, 1, 1, 1, 1, -1, -1, 1, -1, 0, -1, -1, -1, -1, 1, 1, -1, 0, -1, -1, -1, -1, -1, 1, 1, 1, 1, -1, 1, 1, 1, -1, 0, 0, 1, 1, -1, -1, 0, 0, 0, 1, -1]]\n"
     ]
    }
   ],
   "source": [
    "import csv\n",
    "\n",
    "file = open('data/exemplo.csv', 'r')\n",
    "csv_file = csv.reader(file)\n",
    "\n",
    "headers = next(csv_file, None)\n",
    "\n",
    "dep_nomes = []\n",
    "dep_estados = []\n",
    "dep_partidos = []\n",
    "dep_votos = []\n",
    "\n",
    "for row in csv_file:\n",
    "    dep_nomes.append(row[0])\n",
    "    dep_estados.append(row[1])\n",
    "    dep_partidos.append(row[2])\n",
    "    dep_votos.append(list(map(int, row[3:len(row)])))\n",
    "\n",
    "print(dep_nomes)\n",
    "print(dep_estados)\n",
    "print(dep_partidos)\n",
    "print(dep_votos)\n",
    "    "
   ]
  },
  {
   "cell_type": "markdown",
   "metadata": {},
   "source": [
    "O posicionamento do senador quanto a uma determinada lei será representado por um valor do conjunto $P = \\{-1, 0, 1\\}$, onde 1 significa voto <strong>sim</strong>, -1 significa <strong>não</strong> e 0 significa <strong>abstenção</strong>."
   ]
  },
  {
   "cell_type": "markdown",
   "metadata": {},
   "source": [
    "## 3. Representando um vetor\n",
    "\n",
    "Sua primeira tarefa neste laboratório será implementar as funções da classe Vetor, que está disponível [aqui](src/vetor.py), e descrita abaixo.\n",
    "\n",
    "* **Tarefa 01:** Implementar as seguintes funções na classe Vetor\n",
    "\n",
    "        - Adição entre vetores\n",
    "        - Produto por escalar\n",
    "        - Produto interno\n",
    "        - Igualdade entre vetores"
   ]
  },
  {
   "cell_type": "code",
   "execution_count": 18,
   "metadata": {},
   "outputs": [],
   "source": [
    "#coding: utf-8\n",
    "\n",
    "class Vetor:\n",
    "    \n",
    "    '''\n",
    "    Inicializa o vetor a partir de uma lista.\n",
    "    '''\n",
    "    def __init__(self, lista):\n",
    "        self.entradas = lista\n",
    "        self.size = len(lista)\n",
    "    \n",
    "    '''\n",
    "    Retorna a dimensão do vetor.\n",
    "    '''\n",
    "    def __len__(self):\n",
    "        return self.size\n",
    "    \n",
    "    '''\n",
    "    Retorna o item numa dada posição.\n",
    "    '''\n",
    "    def __getitem__(self, index):\n",
    "        return self.entradas[index]\n",
    "    \n",
    "    '''\n",
    "    Implementa a operação de soma entre vetores.\n",
    "    Deve retornar um objeto da classe Vetor representando o resultado da operação.\n",
    "    Você pode assumir que ambos os vetores têm a mesma dimensão.\n",
    "    '''\n",
    "    def __add__(self, vetor):\n",
    "        raise NotImplementedError\n",
    "    \n",
    "    def __radd__(self, vetor):\n",
    "        return self.__add__(vetor)\n",
    "    \n",
    "    '''\n",
    "    Implementa a operação de multiplicação por escalar e o produto interno.\n",
    "    Você pode assumir que ambos os vetores têm a mesma dimensão.\n",
    "    Deve retornar:\n",
    "     - um objeto da classe Vetor representando o vetor resultante, caso mult seja escalar\n",
    "     - um escalar com o valor do produto interno caso mult seja outro vetor.\n",
    "    '''\n",
    "    def __mul__(self, mult):\n",
    "        \n",
    "        '''\n",
    "        Implementa a multiplicação por escalar\n",
    "        '''\n",
    "        if isinstance(mult, float) or isinstance(mult, int):\n",
    "            raise NotImplementedError\n",
    "        \n",
    "        '''\n",
    "        Implementa o produto vetorial\n",
    "        '''\n",
    "        if isinstance(mult, Vetor):\n",
    "            raise NotImplementedError\n",
    "    \n",
    "    def __rmul__(self, mult):\n",
    "        return self.__mul__(mult)\n",
    "    \n",
    "    '''\n",
    "    Implementa a subtração.\n",
    "    '''\n",
    "    def __sub__(self, vetor):\n",
    "        return self.__add__(vetor * -1)\n",
    "    \n",
    "    def __rsub__(self, vetor):\n",
    "        return vetor.__sub__(self)\n",
    "    \n",
    "    '''\n",
    "    Implementa a divisão por escalar.\n",
    "    '''\n",
    "    def __truediv__(self, fator):\n",
    "        return self.__mul__(1.0/fator);\n",
    "    \n",
    "    '''\n",
    "    Implementa a igualdade entre vetores\n",
    "    Deve retornar True caso sejam iguais e False caso sejam diferentes.\n",
    "    '''\n",
    "    def __eq__(self, vetor):\n",
    "        raise NotImplementedError\n",
    "    \n",
    "    def __neq__(self, vetor):\n",
    "        return not self.__eq__(vetor)\n",
    "    \n",
    "    '''\n",
    "    Implementa uma representação textual para o vetor.\n",
    "    '''\n",
    "    def __str__(self):\n",
    "        return \"Vetor\" + str(self.entradas)"
   ]
  },
  {
   "cell_type": "markdown",
   "metadata": {},
   "source": [
    "## 4. Representando o Deputado\n",
    "\n",
    "A classe Deputado está disponível [aqui](src/deputado.py) e descrita abaixo. Ela já está totalmente implementada, você deverá apenas utilizá-la como no exemplo abaixo. Abaixo segue ainda um exemplo de como o dicionário *deputados* funciona. Note que no nosso arquivo de [dados](data/votos.csv), o nome do parlamentar é representado por um ID."
   ]
  },
  {
   "cell_type": "code",
   "execution_count": 19,
   "metadata": {},
   "outputs": [
    {
     "name": "stdout",
     "output_type": "stream",
     "text": [
      "Vetor[-1, -1, -1, -1, -1, -1, -1, -1, -1, -1, -1, -1, -1, -1, -1, -1, -1, -1, -1, -1, -1, -1, -1, -1, -1, -1, -1, -1, -1, -1, -1, -1, -1, -1, -1, -1, -1, -1, -1, -1, -1, -1, -1, -1, -1, -1, -1, -1, -1, -1, -1, -1, -1, -1, -1, -1, -1, -1, -1, -1, -1, -1, -1, -1, -1, -1, -1, -1, -1, -1, -1, -1, -1, -1, -1, -1, -1, -1, -1, -1, -1, -1, -1, -1, -1, -1, -1, -1, -1, -1, -1, -1, -1, -1, -1, -1, -1, -1, -1, -1, -1, -1, -1, -1, -1, -1, -1, -1, -1, -1, -1, -1, -1, -1, -1, -1, -1, -1, -1, -1, -1, -1, -1, -1, -1, -1, -1, -1, -1, -1, -1, -1, -1, -1, -1, -1, -1, -1, -1, -1, -1, -1, -1, -1, -1, -1, -1, -1, -1, -1, -1, -1, -1, -1, -1, -1, -1, -1, -1, -1, -1, -1, -1, -1, -1, -1, -1, -1, -1, -1, -1, -1, -1, -1, -1, -1, -1, -1, -1, -1, -1, -1, -1, -1, -1, -1, -1, -1, -1, -1, -1, -1, -1, -1, -1, -1, -1, -1, -1, -1, -1, -1, -1, -1, -1, -1, -1, -1, -1, -1, -1, -1, -1, -1, -1, -1, -1, -1, -1, -1, -1, -1, -1, -1, -1, -1, -1, -1, -1, -1, -1, -1, -1, -1, -1, -1, -1, -1, -1, -1, -1, -1, -1, -1, -1, -1, -1, -1, -1, -1, -1, -1, -1, -1, -1, -1, -1, -1, -1, -1, -1, -1, -1, -1, -1, -1, -1, -1, -1, 1, 0, 0, 0, 0, 0, -1, -1, 1, 1, 1, -1, -1, -1, 0, 0, -1, -1, -1, 1, 0, 0, 0, 1, 0, -1, -1, 1, 1, 0, 0, -1, 1, 1, 0, 0, 0, 1, 1, 1, 0, -1, -1, -1, -1, 1, 0, 1, 0, -1, 1, 1, 0, 1, 1, -1, 0, 0, 0, -1, 0, -1, 0, 1, -1, 0, -1, 0, 1, 0, 0, 0, 1, 1, 1, 1, 1, 1, 1, 0, 0, 0, 0, 1, 1, 1, -1, 0, 0, 0, 0, 0, -1, -1, -1, -1, 1, 0, 0, 1, 1, -1, 1, 1, 0, 1, 1, 0, 0, 0, 0, 1, -1, 0, 1, 0, 1, 0, 1, -1, 0, 1, 0, 0, 0, -1, 1, 1, -1, 1, 1, 0, 1, 0, 1, -1, 1, -1, 1, 0, 0, 1, -1, 0, 0, -1, -1, 1, -1, 1, 1, 1, -1, 1, -1, 0, -1, 0, -1, 1, 0, 0, 1, -1, 1, 0, 0, 0, 0, -1, 0, 0, -1, -1, 0, 1, -1, 1, 1, 1, 1, 1, -1, -1, -1, -1, 1, -1, -1, 0, -1, 1, -1, -1, 1, 1, 1, 1, 0, 1, 0, 1, -1, 1, 1, -1, 1, 0, -1, 1, 0, 0, 1, 0, 0, 0, 0, 0, -1, 0, 0, 0, 0, 1, -1, 1, -1, 1, 0, -1, -1, 1, 1, 0, 1, -1, 0, 1, -1, 1, 1, 1, -1, -1, 1, 0, 0, 0, 0, 0, 0, 0, 0, 0, 0, 0, 0, 1, -1, 1, -1, 0, 0, 1, -1, -1, -1, 0, 1, -1, 0, 0, -1, -1, 0, 0, 0, 0, 0, 0, 0, -1, 0, 1, -1, -1, 0, -1, 0, 0, 0, 1, -1, -1, -1, -1, -1, -1, -1, -1, 0, 1, 0, 1, 0, 1, 1, 1, 1, 1, 0, 1, -1, 1, 0, 1, 1, -1, -1, 0, 1, 0, 1, 0, 0, 0, 0, 0, 1, 1, 1, 0, 0, 0, 0, 0, 1, -1, -1, -1, -1, -1, 1, 1, -1, 0, 0, 1, -1, 0, 1, 0, -1, -1, 1, 0, -1, 1, 1, 1, -1, -1, -1, 1, 1, -1, 1, -1, 1, 1, 0, 1, -1, 1, -1, -1, 1, 0, 1, 1, -1, 1, 1, 1, 1, 1, 1, 1, 1, 1, -1, 1, 0, 1, -1, 1, 1, 1, 0, 0, 0, 0, 0, 0, -1, -1, 1, 0, 1, 1, 1, 1, 1, 0, -1, 1, -1, 0, -1, 1, 0, 0, 1, 1, 1, -1, 1, 0, 0, 0, 0, 0, 0, 0, 0, 0, 0, -1, 1, 1, 1, 1, 1, 0, 0, 0, -1, 1, 0, 0, 0, 0, 0, 0, 0, 1, 0, 1, -1, -1, -1, -1, 1, 0, 0, 0, 0, 0, 0, -1, -1, 0, 1, -1, -1, 0, -1, 1, 0, -1, 1, 1, -1, 0, -1, -1, 1, 1, -1, 1, 1, -1, 1, -1, -1, 1, 0, 1, 1, -1, 1, 1, -1, 0, 0, 1, -1, -1, 1, -1, 1, 1, -1, 0, 0, -1, 1, 1, 0, 1, 0, -1, 1, -1, 1, -1, 0, 1, 1, 1, 0, 0, 0, 0, 0, 0, 0, 0, 0, 0, 0, 0, 1, -1, -1, 0, 1, -1, 1, 1, 1, 0, 1, 1, 0, 0, 0, 0, 0, 0, 0, 0, 0, 0, 0, 0, 0, 0, 0, 0, 0, 0, 0, 0, 0, 0, 0, 0, 0, 1, 1, 1, -1, 1, 1, -1, -1, -1, 1, 1, 0, -1, 1, 0, 0, 1, 1, -1]\n"
     ]
    }
   ],
   "source": [
    "#coding: utf-8\n",
    "\n",
    "class Deputado:\n",
    "    \n",
    "    def __init__(self, nome, estado, partido, votos):\n",
    "        self.nome = nome\n",
    "        self.estado = estado\n",
    "        self.partido = partido\n",
    "        self.votos = votos\n",
    "    \n",
    "    def __str__(self):\n",
    "        return self.nome + \", \" + self.estado + \", \" + self.partido\n",
    "\n",
    "deputados = {}    \n",
    "\n",
    "for i in range(len(dep_nomes)):\n",
    "    deputados[dep_nomes[i]] = Deputado(dep_nomes[i], dep_estados[i], dep_partidos[i], Vetor(dep_votos[i]))\n",
    "    \n",
    "print(deputados['4930'].votos)"
   ]
  },
  {
   "cell_type": "markdown",
   "metadata": {},
   "source": [
    "## 5. Usando o produto interno para comparar vetores\n",
    "\n",
    "Suponha que $u$ e $v$ são dois vetores no $\\mathbb{R}^n$, cujas entradas pertencem ao conjunto $P = {-1, 0, 1}$.\n",
    "\n",
    "Inicialmente, recordemos a definição de produto interno de dois vetores: $$u \\cdot v = \\sum_{i=1}^{n} u[i] \\cdot v[i]$$, com a definição em mente sigamos para dar interpretação a resposta.\n",
    "\n",
    "Considere a k-ésima entrada:\n",
    "* Se ambos $u[k]$ e $v[k]$ são 1, o termo corresponde da soma é 1. Se ambos são -1, o termo corresponde da soma é 1. Dessa forma, um termo da soma que é 1 indica concordância.\n",
    "* Se $u[k]$ e $v[k]$ tem sinais distintos, o termo corresponde da soma é -1. Assim, um termo na soma que é -1 indica discordância.\n",
    "* Se $u[k]$ e/ou $v[k]$ são 0, então o termo é zero, refletindo o fato de que estas entradas não proveem evidências de concordância ou discordância.\n",
    "\n",
    "Disso, podemos concluir que o produto interno de $u$ e $v$ é portanto uma medida de quão $u$ e $v$ estão em concordância."
   ]
  },
  {
   "cell_type": "markdown",
   "metadata": {},
   "source": [
    "## 6. Comparação de Políticas\n",
    "\n",
    "Nosso objetivo é determinar quão alinhados politicamente dois deputados estão. Para conseguirmos tal feito, usaremos produto interno para julgar quão frequentemente dois deputados estão em concordância.\n",
    "\n",
    "* **Tarefa 02:** Comparar o alinhamento de dois deputados, implementado a função descrita a seguir."
   ]
  },
  {
   "cell_type": "code",
   "execution_count": 20,
   "metadata": {},
   "outputs": [],
   "source": [
    "'''\n",
    "Tarefa 02 - Comparar o alinhamento de dois deputados\n",
    "A função abaixo recebe o nome de dois deputados e o\n",
    "dicionário mapeando o nome do deputado com seu objeto\n",
    "da classe Deputado, e retorna o produto interno representando\n",
    "o grau de similaridade entre a política de voto dos dois deputados dados.\n",
    "'''\n",
    "def comparar(dep_a, dep_b, senadores):\n",
    "    raise NotImplementedError"
   ]
  },
  {
   "cell_type": "markdown",
   "metadata": {},
   "source": [
    "* **Tarefa 03:** Encontrar o deputado mais similar com um deputado dado, implementado a função descrita a seguir."
   ]
  },
  {
   "cell_type": "code",
   "execution_count": 21,
   "metadata": {},
   "outputs": [],
   "source": [
    "'''\n",
    "Tarefa 03 - Encontrar o deputado mais similar com um deputado dado\n",
    "A função deve receber o nome de um deputado e o dicionário mapeando\n",
    "o nome do deputado com seu objeto da classe Deputado, e retornar \n",
    "o nome do deputado mais similar ao que foi dado como entrada.\n",
    "No caso, de haver mais de um deputado com o grau de similaridade máxima,\n",
    "todos os nomes devem ser retornados em uma lista.\n",
    "'''\n",
    "def mais_similar(dep, deputados):\n",
    "    raise NotImplementedError"
   ]
  },
  {
   "cell_type": "markdown",
   "metadata": {},
   "source": [
    "* **Tarefa 04:** Encontrar o deputado menos similar com um deputado dado, implementado a função descrita a seguir."
   ]
  },
  {
   "cell_type": "code",
   "execution_count": 22,
   "metadata": {},
   "outputs": [],
   "source": [
    "'''\n",
    "Tarefa 04 - Encontrar o deputado menos similar com um deputado dado\n",
    "Similar a tarefa 03, porém deve retornar o nome do deputado menos similar\n",
    "ou uma lista com todos os nomes, em caso de empate.\n",
    "'''\n",
    "def menos_similar(dep, deputados):\n",
    "    raise NotImplementedError"
   ]
  },
  {
   "cell_type": "markdown",
   "metadata": {},
   "source": [
    "## 7. Comparações envolvendo conjuntos\n",
    "\n",
    "Neste momento, já somos capazes de fazer comparações entre dois deputados. Agora, sua tarefa envolverá avaliar similaridade entre um deputado e um conjunto de deputados.\n",
    "\n",
    "* **Tarefa 05:** Implementar a função encontra_similaridade_media(dep, dep_set, deputados) que, dado o nome de um deputado, compara seu registro de votos com o registro de votos com todos os deputados cujos nomes estão em dep_set, computando um produto interno para cada, e então retornando o produto interno médio."
   ]
  },
  {
   "cell_type": "code",
   "execution_count": 23,
   "metadata": {},
   "outputs": [],
   "source": [
    "'''\n",
    "Tarefa 05 - Implementar a função encontra_similaridade_media(dep, dep_set, deputados) que,\n",
    "dado o nome de um deputado, compara seu registro de votos com o registro de votos com todos\n",
    "os deputados cujos nomes estão em dep_set, computando um produto interno para cada, e então\n",
    "retornando o produto interno médio.\n",
    "'''\n",
    "def encontra_similaridade_media(dep, dep_set, deputados):\n",
    "    raise NotImplementedError"
   ]
  },
  {
   "cell_type": "markdown",
   "metadata": {},
   "source": [
    "Reflita um pouco sobre o procedimento implementado acima! Você acha que ele poderia ser otimizado de alguma maneira? Talvez utilizando alguma propriedade do produto interno? Vamos relembrar, brevemente, uma propriedade muito importante do produto interno.\n",
    "\n",
    "**Propriedade Distributiva:**\n",
    "Sejam $u$, $v$ e $w$ vetores no $\\mathbb{R}^n$, temos que $u \\cdot (v + w) = u \\cdot v + u \\cdot w$.\n",
    "\n",
    "Diante disto, você consegue ver uma outra forma de implementar a função a acima?\n",
    "\n",
    "* **Tarefa 06:** Implemente a função encontra_registro_medio(dep_set, voting_dict) que, dado um conjunto com o nome dos deputados, encontra a média do registro de votação. Isto é, realize adição vetorial nas listas representando o registro de suas votações, e então divida a soma pelo número de vetores. O resultado deve ser um vetor."
   ]
  },
  {
   "cell_type": "code",
   "execution_count": 24,
   "metadata": {},
   "outputs": [],
   "source": [
    "'''\n",
    "Tarefa 06 - Implemente a função encontra_registro_medio(dep_set, voting_dict) que,\n",
    "dado um conjunto com o nome dos deputados, encontra a média do registro de votação.\n",
    "Isto é, realize adição vetorial nas listas representando o registro de suas votações,\n",
    "e então divida a soma pelo número de vetores. O resultado deve ser um vetor.\n",
    "'''\n",
    "def encontra_registro_medio(dep_set, deputados):\n",
    "    raise NotImplementedError"
   ]
  },
  {
   "cell_type": "markdown",
   "metadata": {},
   "source": [
    "Utilizando essa função, iremos criar outras derivadas, como descrito abaixo:\n",
    "\n",
    "* **Tarefa 07** Implemente as funções a seguir:\n",
    "    - registro_medio_partido(partido, deputados) que, dado o nome de um partido encontra o registro médio de votação deste partido;\n",
    "    - registro_medio_estado(estado, deputados) que, dado o nome de um estado do Brasil encontra o registro médio de votação deste estado;\n",
    "    - registro_medio_regiao(regiao, deputados) que, dada o nome de uma região do Brasil encontra o registro médio de votação desta região."
   ]
  },
  {
   "cell_type": "code",
   "execution_count": 25,
   "metadata": {},
   "outputs": [],
   "source": [
    "'''\n",
    "Tarefa 07 - Implemente as funções a seguir\n",
    "- registro_medio_partido(partido, deputados) que, dado o nome de um partido \n",
    "  encontra o registro médio de votação deste partido;\n",
    "- registro_medio_estado(estado, deputados) que, dado o nome de um estado do\n",
    "  Brasil encontra o registro médio de votação deste estado;\n",
    "- registro_medio_regiao(regiao, deputados) que, dada o nome de uma região do\n",
    "  Brasil encontra o registro médio de votação desta região.\n",
    "\n",
    "O retorno de todas as funções descritas nesta tarefa deve ser um vetor.\n",
    "'''\n",
    "\n",
    "def registro_medio_partido(partido, deputados):\n",
    "    raise NotImplementedError\n",
    "    \n",
    "def registro_medio_estado(estado, deputados):\n",
    "    raise NotImplementedError\n",
    "    \n",
    "def registro_medio_regiao(regiao, deputados):\n",
    "    raise NotImplementedError"
   ]
  },
  {
   "cell_type": "markdown",
   "metadata": {},
   "source": [
    "De posse das funções criadas na **Tarefa 07**, iremos implementar mais algumas, derivadas destas.\n",
    "\n",
    "* **Tarefa 08:** Implemente as funções a seguir:\n",
    "    - similaridade_no_partido(dep, deputados) que, dado o nome de um deputado encontra o grau de similaridade dele com seu partido.\n",
    "    - similaridade_no_estado(dep, deputados) que, dado o nome de um deputado encontra o grau de similaridade dele com seu estado.\n",
    "    - similaridade_na_regiao(dep, deputados) que, dado o nome de um deputado encontra o grau de similaridade dele com sua regiao.\n",
    "    - encontra_mais_alinhado_partido(partido, deputados) que, dado o nome de um partido encontra o senador mais similar ao partido"
   ]
  },
  {
   "cell_type": "code",
   "execution_count": 26,
   "metadata": {},
   "outputs": [],
   "source": [
    "'''\n",
    "Tarefa 08 - Implemente as funções a seguir:\n",
    "- similaridade_no_partido(dep, deputados) que,\n",
    "  dado o nome de um deputado encontra o grau de similaridade dele com seu partido.\n",
    "- similaridade_no_estado(dep, deputados) que,\n",
    "  dado o nome de um deputado encontra o grau de similaridade dele com seu estado.\n",
    "- similaridade_na_regiao(dep, deputados) que,\n",
    "  dado o nome de um deputado encontra o grau de similaridade dele com sua regiao.\n",
    "- encontra_mais_alinhado_partido(partido, deputados) que,\n",
    "  dado o nome de um partido encontra o deputado mais similar ao partido.\n",
    "  \n",
    "Para as funções acima o retorno deve ser uma lista contendo o nome do deputado e seu respectivo\n",
    "grau de similaridade.\n",
    "'''\n",
    "\n",
    "def similaridade_no_partido(dep, deputados):\n",
    "    raise NotImplementedError\n",
    "\n",
    "def similaridade_no_estado(dep, deputados):\n",
    "    raise NotImplementedError\n",
    "\n",
    "def similaridade_na_regiao(dep, deputados):\n",
    "    raise NotImplementedError\n",
    "\n",
    "def encontra_mais_alinhado_partido(partido, deputados):\n",
    "    raise NotImplementedError"
   ]
  },
  {
   "cell_type": "markdown",
   "metadata": {},
   "source": [
    "## 8. Rivalidades e amizades\n",
    "\n",
    "Voltaremos agora a comparação deputados entre sim, desta vez queremos encontrar os dois deputados mais alinhados, bem como os dois menos alinhados.\n",
    "\n",
    "* **Tarefa 09:** Implemente as funções a seguir:\n",
    "    - rivais_amargos(deputados) que encontra os dois deputados menos similares do conjunto inteiro.\n",
    "    - amigos_adocicados(deputados) que encontra os dois deputados mais similares do conjunto inteiro."
   ]
  },
  {
   "cell_type": "code",
   "execution_count": 27,
   "metadata": {},
   "outputs": [],
   "source": [
    "'''\n",
    "Tarefa 09 - Implemente as funções a seguir:\n",
    "- rivais_amargos(deputados) que encontra os dois deputados menos similares do conjunto inteiro.\n",
    "- amigos_adocicados(deputados) que encontra os dois deputados mais similares do conjunto inteiro.\n",
    "\n",
    "O retorno deve ser uma lista contendo os nomes dos dois deputados.\n",
    "'''\n",
    "\n",
    "def rivais_amargos(deputados):\n",
    "    raise NotImplementedError\n",
    "\n",
    "def amigos_adocicados(deputados):\n",
    "    raise NotImplementedError"
   ]
  },
  {
   "cell_type": "markdown",
   "metadata": {},
   "source": [
    "Por fim, iremos lidar com similaridade dentro de um partido.\n",
    "\n",
    "* **Tarefa 10:** Implemente as funções a seguir:\n",
    "    - encontra_partido_mais_coerente(deputados) que encontra o partido cujos congressistas são mais similares entre si, ou seja, cuja média das similaridades entre cada deputado é a maior.\n",
    "    - encontra_partido_menos_coerente(deputados) que encontra o partido cujos congressistas são menos similares entre si, ou seja, cuja média das similaridades entre cada deputado é a menor."
   ]
  },
  {
   "cell_type": "code",
   "execution_count": 28,
   "metadata": {},
   "outputs": [],
   "source": [
    "'''\n",
    "Tarefa 10 - Implemente as funções a seguir:\n",
    "- encontra_partido_mais_coerente(deputados) que encontra o partido\n",
    "  cujos congressistas são mais similares entre si, ou seja, cuja média das\n",
    "  similaridades entre cada deputado é a maior.\n",
    "- encontra_partido_menos_coerente(deputados) que encontra o partido\n",
    "  cujos congressistas são menos similares entre si, ou seja, cuja média das\n",
    "  similaridades entre cada deputado é a menor.\n",
    "  \n",
    "O retorno, para ambas, deve ser o nome do partido.\n",
    "'''\n",
    "\n",
    "def encontra_partido_mais_coerente(deputados):\n",
    "    raise NotImplementedError\n",
    "    \n",
    "def encontra_partido_menos_coerente(deputados):\n",
    "    raise NotImplementedError"
   ]
  },
  {
   "cell_type": "markdown",
   "metadata": {},
   "source": [
    "## 8. Algumas observações\n",
    "\n",
    "* Para saber como proceder na realização deste laboratório, consulte o [guia](https://docs.google.com/document/d/162TmGRQ2o7vUckoTaYBL53ranCZcChZ_qjesmfxMzL0/edit?usp=sharing)\n",
    "* As funções descritas nas tarefas 2 a 10, devem ser implementadas [aqui](src/main.py).\n",
    "* Você poderá criar variáveis globais, bem como funções auxiliares se achar necessário.\n",
    "* É estritamente proibido mudar o nome e/ou a assinatura das funções descritas acima, uma vez que a correção será feita de forma automática, e tais mudanças irão comprometer a correção.\n",
    "* O arquivo de dados está disponível [aqui](data/votos.csv).\n",
    "* É recomendado que você realize testes antes de submeter, você pode implementar seus testes [aqui](src/my_tests.py)."
   ]
  }
 ],
 "metadata": {
  "kernelspec": {
   "display_name": "Python 3",
   "language": "python",
   "name": "python3"
  },
  "language_info": {
   "codemirror_mode": {
    "name": "ipython",
    "version": 3
   },
   "file_extension": ".py",
   "mimetype": "text/x-python",
   "name": "python",
   "nbconvert_exporter": "python",
   "pygments_lexer": "ipython3",
   "version": "3.5.2"
  }
 },
 "nbformat": 4,
 "nbformat_minor": 2
}
